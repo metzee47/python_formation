{
 "cells": [
  {
   "cell_type": "code",
   "execution_count": 57,
   "id": "fb713c95",
   "metadata": {},
   "outputs": [
    {
     "name": "stdout",
     "output_type": "stream",
     "text": [
      "Veuillez entrer le nombre d'eleves dans la classe: 3\n",
      "Veuillez entrer le nombre de matieres enseignes: 3\n",
      "Veuillez entrez le nom complet de l'etudiant 1: Jean Marc Michel Mendy\n",
      "Veuillez remplir toutes les notes de l'etudiant Jean Marc Michel Mendy.\n",
      "\n",
      "Veuillez saisir la note de la matiere 1: 87\n",
      "Veuillez saisir la note de la matiere 2: 67\n",
      "Veuillez saisir la note de la matiere 3: 56\n",
      "Veuillez entrez le nom complet de l'etudiant 2: David Toure\n",
      "Veuillez remplir toutes les notes de l'etudiant David Toure.\n",
      "\n",
      "Veuillez saisir la note de la matiere 1: 67\n",
      "Veuillez saisir la note de la matiere 2: 34\n",
      "Veuillez saisir la note de la matiere 3: 97\n",
      "Veuillez entrez le nom complet de l'etudiant 3: Mohamed Lamine Dieme\n",
      "Veuillez remplir toutes les notes de l'etudiant Mohamed Lamine Dieme.\n",
      "\n",
      "Veuillez saisir la note de la matiere 1: 90\n",
      "Veuillez saisir la note de la matiere 2: 87\n",
      "Veuillez saisir la note de la matiere 3: 78\n"
     ]
    },
    {
     "data": {
      "text/plain": [
       "{'Jean Marc Michel Mendy': {'Total des notes': 210.0,\n",
       "  'Pourcentage des notes': 70.0,\n",
       "  'Evaluation des notes': 'B+'},\n",
       " 'David Toure': {'Total des notes': 198.0,\n",
       "  'Pourcentage des notes': 66.0,\n",
       "  'Evaluation des notes': 'B'},\n",
       " 'Mohamed Lamine Dieme': {'Total des notes': 255.0,\n",
       "  'Pourcentage des notes': 85.0,\n",
       "  'Evaluation des notes': 'A'}}"
      ]
     },
     "execution_count": 57,
     "metadata": {},
     "output_type": "execute_result"
    }
   ],
   "source": [
    "import numpy as np\n",
    "\n",
    "student = int(input(\"Veuillez entrer le nombre d'eleves dans la classe: \"))\n",
    "subject = int(input(\"Veuillez entrer le nombre de matieres enseignes: \"))\n",
    "\n",
    "# le nom de chaque etuduant sous forme de dictionnaire\n",
    "student_names = {}\n",
    "\n",
    "# Initialisation par defaut des notes de tous les eleves a zeros\n",
    "classe = np.zeros([student,subject])\n",
    "\n",
    "# Le total des notes de chaque eleve sous forme de tableau initialise par defaut\n",
    "sum_notes = np.zeros(student)\n",
    "\n",
    "# Le pourcentage de chaque eleve sous forme de tableau initialise par defaut\n",
    "percentage = np.zeros(student)\n",
    "\n",
    "# la note de chaque eleve sous forme de dictionnaire\n",
    "student_mark = {}\n",
    "\n",
    "# Les informations completes de chaque etudiant sous forme de tableau\n",
    "student_infos = {}\n",
    "\n",
    "# Remplissage des notes de chaque eleves par slicing, chaque colonne correspond aux notes d'un eleve\n",
    "for i in range (0,student):\n",
    "    student_name = input(f\"Veuillez entrez le nom complet de l'etudiant {i+1}: \")\n",
    "    student_names[i] = student_name\n",
    "    print(f\"Veuillez remplir toutes les notes de l'etudiant {student_name}.\\n\")\n",
    "    for j in range (0,subject):\n",
    "        note = int(input(f\"Veuillez saisir la note de la matiere {j+1}: \"))\n",
    "        while note > 100 or note < 0:\n",
    "            print(\"Veuillez saisir une note valide svp !!!\")\n",
    "            note = int(input(f\"\\tSaisir la note de la matiere {j+1}: \"))\n",
    "        classe[i,j] = note\n",
    "    # Calcul du total des notes de chaque eleve, chaque colonne correspond au total des notes de l'eleve en question\n",
    "    sum_notes[i] = classe[i,:].sum()\n",
    "    # Calcul du pourcentage de l'eleve en fonction du total des notes\n",
    "    percentage[i] = (sum_notes[i]/(student*100)*100)\n",
    "    if percentage[i] >= 90:\n",
    "        student_mark[i] = \"A+\"\n",
    "    elif percentage[i] >= 80:\n",
    "        student_mark[i] = \"A\"\n",
    "    elif percentage[i] >= 70:\n",
    "        student_mark[i] = \"B+\"\n",
    "    elif percentage[i] >= 60:\n",
    "        student_mark[i] = \"B\"\n",
    "    elif percentage[i] >= 50:\n",
    "        student_mark[i] = \"C\"\n",
    "    else:\n",
    "        student_mark[i] = \"F\"\n",
    "        \n",
    "    student_infos[student_name] = {\"Total des notes\":sum_notes[i],\"Pourcentage des notes\":percentage[i],\"Evaluation des notes\":student_mark[i]}\n",
    "    \n",
    "student_infos"
   ]
  },
  {
   "cell_type": "markdown",
   "id": "6ed559ac",
   "metadata": {},
   "source": [
    "###### "
   ]
  },
  {
   "cell_type": "code",
   "execution_count": null,
   "id": "6b2bba2f",
   "metadata": {},
   "outputs": [],
   "source": []
  },
  {
   "cell_type": "code",
   "execution_count": null,
   "id": "d98d1216",
   "metadata": {},
   "outputs": [],
   "source": []
  }
 ],
 "metadata": {
  "kernelspec": {
   "display_name": "Python 3 (ipykernel)",
   "language": "python",
   "name": "python3"
  },
  "language_info": {
   "codemirror_mode": {
    "name": "ipython",
    "version": 3
   },
   "file_extension": ".py",
   "mimetype": "text/x-python",
   "name": "python",
   "nbconvert_exporter": "python",
   "pygments_lexer": "ipython3",
   "version": "3.10.9"
  }
 },
 "nbformat": 4,
 "nbformat_minor": 5
}
