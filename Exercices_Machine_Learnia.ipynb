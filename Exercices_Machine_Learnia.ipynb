{
 "cells": [
  {
   "cell_type": "markdown",
   "id": "0ebaff4d",
   "metadata": {},
   "source": [
    "# Exercice 1"
   ]
  },
  {
   "cell_type": "code",
   "execution_count": 10,
   "id": "a4fe5aa1",
   "metadata": {},
   "outputs": [
    {
     "name": "stdout",
     "output_type": "stream",
     "text": [
      "Saisissez une valeur : 12\n",
      "{'positif': [12], 'negatif': []}\n",
      "Saisissez une valeur : -4\n",
      "{'positif': [12], 'negatif': [-4]}\n",
      "Saisissez une valeur : -45\n",
      "{'positif': [12], 'negatif': [-4, -45]}\n",
      "Saisissez une valeur : 25\n",
      "{'positif': [12, 25], 'negatif': [-4, -45]}\n",
      "Saisissez une valeur : 0\n",
      "{'positif': [12, 25], 'negatif': [-4, -45]}\n"
     ]
    }
   ],
   "source": [
    "# Une fontion qui range la valeur donnee par l'utilsateur dans la liste selon son signe\n",
    "\n",
    "def sort_number(number):\n",
    "    global classeur\n",
    "    if number > 0:\n",
    "        classeur['positif'].append(number)\n",
    "    elif number < 0:\n",
    "        classeur['negatif'].append(number)\n",
    "    else:\n",
    "        pass\n",
    "    return classeur\n",
    "\n",
    "classeur = {\n",
    "    'positif': [],\n",
    "    'negatif': []\n",
    "}\n",
    "\n",
    "number = 10\n",
    "while number !=0:\n",
    "    number = int(input(\"Saisissez une valeur : \"))\n",
    "    new_classeur = sort_number(number)\n",
    "    print(new_classeur)"
   ]
  },
  {
   "cell_type": "markdown",
   "id": "45f6ecb6",
   "metadata": {},
   "source": [
    "# Exercice 2"
   ]
  },
  {
   "cell_type": "code",
   "execution_count": 26,
   "id": "48f87f30",
   "metadata": {},
   "outputs": [
    {
     "ename": "SyntaxError",
     "evalue": "invalid syntax. Perhaps you forgot a comma? (3383149228.py, line 3)",
     "output_type": "error",
     "traceback": [
      "\u001b[1;36m  Cell \u001b[1;32mIn[26], line 3\u001b[1;36m\u001b[0m\n\u001b[1;33m    dictionnary = {clefs[clef for clef in range(0,20)]:doors[door**2 for door in range(0,20)] }\u001b[0m\n\u001b[1;37m                   ^\u001b[0m\n\u001b[1;31mSyntaxError\u001b[0m\u001b[1;31m:\u001b[0m invalid syntax. Perhaps you forgot a comma?\n"
     ]
    }
   ],
   "source": [
    "# Dictionnaire qui est compose des nombres commes clefs et dont leurs valeurs est egale au double de la valeur du clef\n",
    "\n",
    "dictionnary = {}\n",
    "print(dictionnary)"
   ]
  },
  {
   "cell_type": "code",
   "execution_count": null,
   "id": "dfe8bd53",
   "metadata": {},
   "outputs": [],
   "source": []
  }
 ],
 "metadata": {
  "kernelspec": {
   "display_name": "Python 3 (ipykernel)",
   "language": "python",
   "name": "python3"
  },
  "language_info": {
   "codemirror_mode": {
    "name": "ipython",
    "version": 3
   },
   "file_extension": ".py",
   "mimetype": "text/x-python",
   "name": "python",
   "nbconvert_exporter": "python",
   "pygments_lexer": "ipython3",
   "version": "3.10.9"
  }
 },
 "nbformat": 4,
 "nbformat_minor": 5
}
