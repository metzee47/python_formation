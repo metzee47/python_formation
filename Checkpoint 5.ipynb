{
 "cells": [
  {
   "cell_type": "code",
   "execution_count": 2,
   "id": "a9e905a9",
   "metadata": {},
   "outputs": [
    {
     "data": {
      "text/plain": [
       "(1, 2, 3)"
      ]
     },
     "execution_count": 2,
     "metadata": {},
     "output_type": "execute_result"
    }
   ],
   "source": [
    "class Point3D:\n",
    "    def __init__(self, x, y, z):\n",
    "        self.x = x\n",
    "        self.y = y\n",
    "        self.z = z\n",
    "    def afficher(self):\n",
    "        return self.x,self.y,self.z\n",
    "\n",
    "my_point = Point3D(1,2,3)\n",
    "my_point.afficher()"
   ]
  },
  {
   "cell_type": "code",
   "execution_count": 7,
   "id": "4508e7b9",
   "metadata": {},
   "outputs": [
    {
     "name": "stdout",
     "output_type": "stream",
     "text": [
      "Aire du rectangle:  12\n",
      "Perimetre du rectangle:  14\n"
     ]
    }
   ],
   "source": [
    "class Rectangle:\n",
    "    def __init__(self, length, width):\n",
    "        self.length = length\n",
    "        self.width = width\n",
    "        \n",
    "    # methode permettant de calculer l'aire de la rectangle\n",
    "    def area(self):\n",
    "        return self.length * self.width\n",
    "    \n",
    "    # methode permettant de calculer le perimetre de la rectangle\n",
    "    def perimeter(self):\n",
    "        return (self.length + self.width) * 2\n",
    "    \n",
    "# nouvelle instance de la classe Rectangle\n",
    "mon_rectangle = Rectangle(3,4)\n",
    "print(\"Aire du rectangle: \",mon_rectangle.area())\n",
    "print(\"Perimetre du rectangle: \",mon_rectangle.perimeter())"
   ]
  },
  {
   "cell_type": "code",
   "execution_count": 26,
   "id": "ea25ea3c",
   "metadata": {},
   "outputs": [
    {
     "name": "stdout",
     "output_type": "stream",
     "text": [
      "Le point A(-2,2) est dans le cercle C(O,5).\n"
     ]
    }
   ],
   "source": [
    "from math import pi\n",
    "\n",
    "class Circle:\n",
    "    def __init__(self, center, radius):\n",
    "        self.center = center\n",
    "        self.radius = radius\n",
    "        \n",
    "    # methode permettant de calculer l'aire du cercle    \n",
    "    def area(self):\n",
    "        return pi * self.radius **2\n",
    "    \n",
    "    # methode permettant de calculer le perimetre du cercle\n",
    "    def perimeter(self):\n",
    "        return 2 * pi * self.radius\n",
    "    \n",
    "    # methode verifiant si un point est dans le cercle ?\n",
    "    def check_point(self,point,x,y):\n",
    "        in_cercle = (self.radius**2)** 0.5\n",
    "        is_in_cercle = (x**2 + y**2)** 0.5\n",
    "        if is_in_cercle > in_cercle:\n",
    "            print(f\"Le point {point}({x},{y}) n'est pas dans le cercle C({self.center},{self.radius}).\")\n",
    "        else:\n",
    "            print(f\"Le point {point}({x},{y}) est dans le cercle C({self.center},{self.radius}).\")\n",
    "        \n",
    "mon_cercle = Circle('O', 5)\n",
    "mon_cercle.check_point('A',-2,2)"
   ]
  },
  {
   "cell_type": "code",
   "execution_count": 25,
   "id": "74522a9d",
   "metadata": {},
   "outputs": [
    {
     "name": "stdout",
     "output_type": "stream",
     "text": [
      "Retrait effectue avec succes.\n"
     ]
    }
   ],
   "source": [
    "class Bank:\n",
    "    def __init__(self, amount):\n",
    "        self.amount = amount\n",
    "    \n",
    "    #methode permettant de faire un depot sur le compte client\n",
    "    def deposit(self, deposit_amount):\n",
    "        self.amount += deposit_amount\n",
    "        print(\"Depot effectue avec succes.\")\n",
    "        return self.amount\n",
    "    \n",
    "    #methode permettant de faire un retrait sur le compte client\n",
    "    def withdraw(self, withdraw_amount):\n",
    "        if self.amount < withdraw_amount:\n",
    "            print(\"Le solde de votre compte ne vous permet pas de retirer une telle somme.\")\n",
    "        else:\n",
    "            self.amount -= withdraw_amount\n",
    "            print(\"Retrait effectue avec succes.\")\n",
    "\n",
    "new_account = Bank(50000)\n",
    "new_account.withdraw(22000)"
   ]
  },
  {
   "cell_type": "code",
   "execution_count": null,
   "id": "ef513a5a",
   "metadata": {},
   "outputs": [],
   "source": []
  }
 ],
 "metadata": {
  "kernelspec": {
   "display_name": "Python 3 (ipykernel)",
   "language": "python",
   "name": "python3"
  },
  "language_info": {
   "codemirror_mode": {
    "name": "ipython",
    "version": 3
   },
   "file_extension": ".py",
   "mimetype": "text/x-python",
   "name": "python",
   "nbconvert_exporter": "python",
   "pygments_lexer": "ipython3",
   "version": "3.10.9"
  }
 },
 "nbformat": 4,
 "nbformat_minor": 5
}
