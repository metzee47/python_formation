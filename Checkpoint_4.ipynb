{
 "cells": [
  {
   "cell_type": "code",
   "execution_count": 18,
   "id": "8a4cf9db",
   "metadata": {},
   "outputs": [
    {
     "name": "stdout",
     "output_type": "stream",
     "text": [
      "Entrez un operateur(+, -, *, /): /\n"
     ]
    },
    {
     "data": {
      "text/plain": [
       "1.3043478260869565"
      ]
     },
     "execution_count": 18,
     "metadata": {},
     "output_type": "execute_result"
    }
   ],
   "source": [
    "# Un programme de calculatrice\n",
    "\n",
    "def calculator(value_1,value_2):\n",
    "    operator = input(\"Entrez un operateur(+, -, *, /): \")\n",
    "    while operator not in ['+','-','*','/','%']:\n",
    "        print(\"Veuillez entrer un operateur valide.\\n\")\n",
    "        operator = input(\"Entrez un operateur(+, -, *, /): \")\n",
    "    if operator == '+':\n",
    "        result = value_1 + value_2\n",
    "    elif operator == '-':\n",
    "        result = value_1 - value_2\n",
    "    elif operator == '*':\n",
    "        result = value_1 * value_2\n",
    "    elif operator == '/':\n",
    "        if value_2 == 0:\n",
    "            print(\"Operation impossible, la valeur zero ne peut etre divise.\")\n",
    "        else:\n",
    "            result = value_1 / value_2\n",
    "    if value_2 != 0 or operator != '/':\n",
    "        return result\n",
    "\n",
    "calculator(30,23)\n"
   ]
  },
  {
   "cell_type": "code",
   "execution_count": null,
   "id": "2c35ce6a",
   "metadata": {},
   "outputs": [],
   "source": []
  },
  {
   "cell_type": "code",
   "execution_count": null,
   "id": "f6abf360",
   "metadata": {},
   "outputs": [],
   "source": []
  }
 ],
 "metadata": {
  "kernelspec": {
   "display_name": "Python 3 (ipykernel)",
   "language": "python",
   "name": "python3"
  },
  "language_info": {
   "codemirror_mode": {
    "name": "ipython",
    "version": 3
   },
   "file_extension": ".py",
   "mimetype": "text/x-python",
   "name": "python",
   "nbconvert_exporter": "python",
   "pygments_lexer": "ipython3",
   "version": "3.10.9"
  }
 },
 "nbformat": 4,
 "nbformat_minor": 5
}
