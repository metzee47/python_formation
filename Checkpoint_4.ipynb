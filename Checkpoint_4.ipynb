{
 "cells": [
  {
   "cell_type": "code",
   "execution_count": 20,
   "id": "c0be2013",
   "metadata": {},
   "outputs": [
    {
     "name": "stdout",
     "output_type": "stream",
     "text": [
      "Entrez une valeur: 12\n",
      "Entrez une autre valeur: 0\n",
      "Entrez un operateur(+, -, *, /): /\n",
      "Operation impossible, la valeur zero ne peut etre divise.\n"
     ]
    }
   ],
   "source": [
    "# Un programme de calculatrice\n",
    "\n",
    "def calculator(value_1,value_2):\n",
    "    operator = input(\"Entrez un operateur(+, -, *, /): \")\n",
    "    while operator not in ['+','-','*','/','%']:\n",
    "        print(\"Veuillez entrer un operateur valide.\\n\")\n",
    "        operator = input(\"Entrez un operateur(+, -, *, /): \")\n",
    "    if operator == '+':\n",
    "        result = value_1 + value_2\n",
    "    elif operator == '-':\n",
    "        result = value_1 - value_2\n",
    "    elif operator == '*':\n",
    "        result = value_1 * value_2\n",
    "    elif operator == '/':\n",
    "        if value_2 == 0:\n",
    "            print(\"Operation impossible, la valeur zero ne peut etre divise.\")\n",
    "        else:\n",
    "            result = value_1 / value_2\n",
    "    if value_2 != 0 or operator != '/':\n",
    "        return result\n",
    "\n",
    "value_1 = int(input(\"Entrez une valeur: \")) \n",
    "value_2 = int(input(\"Entrez une autre valeur: \"))\n",
    "calculator(value_1, value_2)\n"
   ]
  },
  {
   "cell_type": "code",
   "execution_count": null,
   "id": "5e7dde7b",
   "metadata": {},
   "outputs": [],
   "source": []
  },
  {
   "cell_type": "code",
   "execution_count": null,
   "id": "c022289f",
   "metadata": {},
   "outputs": [],
   "source": []
  }
 ],
 "metadata": {
  "kernelspec": {
   "display_name": "Python 3 (ipykernel)",
   "language": "python",
   "name": "python3"
  },
  "language_info": {
   "codemirror_mode": {
    "name": "ipython",
    "version": 3
   },
   "file_extension": ".py",
   "mimetype": "text/x-python",
   "name": "python",
   "nbconvert_exporter": "python",
   "pygments_lexer": "ipython3",
   "version": "3.10.9"
  }
 },
 "nbformat": 4,
 "nbformat_minor": 5
}
