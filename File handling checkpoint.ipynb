{
 "cells": [
  {
   "cell_type": "code",
   "execution_count": 113,
   "id": "daae1f70",
   "metadata": {},
   "outputs": [
    {
     "name": "stdout",
     "output_type": "stream",
     "text": [
      "What is Python language?                                                \n",
      "Python is a widely used high-level, general-purpose, interpreted, dynamic programming language.Its design philosophy emphasizes code readability, and its syntax allows programmers to express concepts in fewer lines of code than possible in \n",
      "languages such as C++ or Java. \n",
      "Python supports multiple programming paradigms, including object-oriented, imperative and functional programming or procedural styles. It features a dynamic type system and automatic memory management and has a large and comprehensive standard library.The best way we learn anything is by practice and exercise questions. We  have started this section for those (beginner to intermediate) who are familiar with Python.\n"
     ]
    }
   ],
   "source": [
    "# Un programme permettant de lire le fichier python.txt\n",
    "\n",
    "with open('python.txt', 'r') as file:\n",
    "    print(file.read())"
   ]
  },
  {
   "cell_type": "code",
   "execution_count": 114,
   "id": "60ebd01f",
   "metadata": {},
   "outputs": [
    {
     "name": "stdout",
     "output_type": "stream",
     "text": [
      "Veuillez saisir le nombre de lignes a lire sur le fichier: 2\n",
      "What is Python language?                                                \n",
      "\n",
      "Python is a widely used high-level, general-purpose, interpreted, dynamic programming language.Its design philosophy emphasizes code readability, and its syntax allows programmers to express concepts in fewer lines of code than possible in \n",
      "\n"
     ]
    }
   ],
   "source": [
    "# Un programme Python pour lire les n premières lignes d'un fichier\n",
    "\n",
    "n_line = int(input('Veuillez saisir le nombre de lignes a lire sur le fichier: '))\n",
    "with open('python.txt', 'r') as file:\n",
    "    for i in range(n_line):\n",
    "        print(file.readline())   "
   ]
  },
  {
   "cell_type": "code",
   "execution_count": 115,
   "id": "6f2df8b1",
   "metadata": {},
   "outputs": [
    {
     "name": "stdout",
     "output_type": "stream",
     "text": [
      "Veuillez saisir les n dernières lignes a lire sur le fichier: 2\n",
      "languages such as C++ or Java. \n",
      "\n",
      "Python supports multiple programming paradigms, including object-oriented, imperative and functional programming or procedural styles. It features a dynamic type system and automatic memory management and has a large and comprehensive standard library.The best way we learn anything is by practice and exercise questions. We  have started this section for those (beginner to intermediate) who are familiar with Python.\n"
     ]
    }
   ],
   "source": [
    "# Un programme Python pour lire les n dernières lignes d'un fichier.\n",
    "\n",
    "n_line = int(input('Veuillez saisir les n dernières lignes a lire sur le fichier: '))\n",
    "with open('python.txt', 'r') as file:\n",
    "    f = file.readlines()[-n_line:]\n",
    "    for line in f:\n",
    "        print(line)"
   ]
  },
  {
   "cell_type": "code",
   "execution_count": 116,
   "id": "b31c45a1",
   "metadata": {},
   "outputs": [
    {
     "name": "stdout",
     "output_type": "stream",
     "text": [
      "102\n"
     ]
    }
   ],
   "source": [
    "# Un programme Python qui prend un fichier texte en entrée et renvoie le nombre de mots d'un fichier texte donné.\n",
    "with open('python.txt','r') as file:\n",
    "    split = ['','\\n','.',')','(',';',':','?','!']\n",
    "    words = []\n",
    "    f = file.readlines()\n",
    "    for line in f:\n",
    "        l = line.split(' ')\n",
    "        for word in l:\n",
    "            w = word.split('.')\n",
    "            for ww in w:\n",
    "                if ww not in split:\n",
    "                    words.append(ww)\n",
    "    print(len(words))"
   ]
  },
  {
   "cell_type": "code",
   "execution_count": null,
   "id": "3377dcbb",
   "metadata": {},
   "outputs": [],
   "source": [
    "# End of a chechpoint"
   ]
  },
  {
   "cell_type": "code",
   "execution_count": null,
   "id": "c9d8bb29",
   "metadata": {},
   "outputs": [],
   "source": []
  }
 ],
 "metadata": {
  "kernelspec": {
   "display_name": "Python 3 (ipykernel)",
   "language": "python",
   "name": "python3"
  },
  "language_info": {
   "codemirror_mode": {
    "name": "ipython",
    "version": 3
   },
   "file_extension": ".py",
   "mimetype": "text/x-python",
   "name": "python",
   "nbconvert_exporter": "python",
   "pygments_lexer": "ipython3",
   "version": "3.10.9"
  }
 },
 "nbformat": 4,
 "nbformat_minor": 5
}
