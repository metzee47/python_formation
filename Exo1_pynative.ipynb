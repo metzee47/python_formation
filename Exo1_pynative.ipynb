{
 "cells": [
  {
   "cell_type": "code",
   "execution_count": 42,
   "id": "1007bc9e",
   "metadata": {},
   "outputs": [
    {
     "name": "stdout",
     "output_type": "stream",
     "text": [
      "Veuillez saisir une phrase : metzee est un voleur\n",
      " eeztem tse nu ruelov\n"
     ]
    }
   ],
   "source": [
    "#Inverser chaque mot d'une chaine\n",
    "\n",
    "\n",
    "Words = input(\"Veuillez saisir une phrase : \").split(\" \")\n",
    "New_sentence = \"\"\n",
    "\n",
    "for Word in Words:\n",
    "    reversed_word = Word[::-1]\n",
    "    New_sentence = \" \".join([New_sentence, reversed_word])\n",
    "print(New_sentence)"
   ]
  },
  {
   "cell_type": "code",
   "execution_count": 13,
   "id": "9cab1bcc",
   "metadata": {},
   "outputs": [
    {
     "ename": "IndentationError",
     "evalue": "unexpected indent (3980892013.py, line 6)",
     "output_type": "error",
     "traceback": [
      "\u001b[1;36m  Cell \u001b[1;32mIn[13], line 6\u001b[1;36m\u001b[0m\n\u001b[1;33m    liste_mots = [mot[::-1] for mot in mots]\u001b[0m\n\u001b[1;37m    ^\u001b[0m\n\u001b[1;31mIndentationError\u001b[0m\u001b[1;31m:\u001b[0m unexpected indent\n"
     ]
    }
   ],
   "source": [
    "#Solution pynative\n",
    "\n",
    "def inverser_mots (phrase):\n",
    " mots = phrase.split(\" \")\n",
    "    \n",
    "    liste_mots = [mot[::-1] for mot in mots]\n",
    "    nouvelle_phrase = \" \".join(liste_mots)\n",
    "    \n",
    "    return nouvelle_phrase\n",
    "\n",
    "phrase = input(\"Entrez votre souhait : \")\n",
    "inverser_mots(phrase)"
   ]
  },
  {
   "cell_type": "markdown",
   "id": "d9edbffd",
   "metadata": {},
   "source": [
    "# Exercice 2"
   ]
  },
  {
   "cell_type": "code",
   "execution_count": 43,
   "id": "835b77dd",
   "metadata": {},
   "outputs": [
    {
     "name": "stdout",
     "output_type": "stream",
     "text": [
      "Saisissez une chaine de nombre separes par le caractere(espace): 12 32 34 44\n",
      "['12', '32', '34', '44']\n",
      "['12', '32', '34', '44']\n"
     ]
    }
   ],
   "source": [
    "#Supprimer les nombres de la liste supperieurs a 50\n",
    "\n",
    "Saisie = input(\"Saisissez une chaine de nombre separes par le caractere(espace): \")\n",
    "Number_list = Saisie.split(\" \")\n",
    "\n",
    "print(Number_list) #affichage liste avant suppression des nombres superieures a 100\n",
    "for Number in Number_list:\n",
    "    if int(Number) > 50:\n",
    "        Number_list.remove(Number)\n",
    "    \n",
    "print(Number_list) #affichage liste apres suppression des nombres superieures a 100\n",
    "\n"
   ]
  },
  {
   "cell_type": "code",
   "execution_count": 30,
   "id": "eb63cb85",
   "metadata": {},
   "outputs": [
    {
     "name": "stdout",
     "output_type": "stream",
     "text": [
      "[12, 30, 50, 40, 20, 45]\n"
     ]
    }
   ],
   "source": [
    "#Solution 2\n",
    "\n",
    "liste = [12,30,50,80,40,90,20,100,45]\n",
    "\n",
    "size_list = len(liste)\n",
    "\n",
    "while size_list != 0:\n",
    "    if liste[size_list-1] > 50: \n",
    "        liste.remove(liste[size_list-1])\n",
    "    size_list -= 1\n",
    "print(liste)\n"
   ]
  },
  {
   "cell_type": "markdown",
   "id": "f5c8fdb9",
   "metadata": {},
   "source": [
    "# Exercice 3"
   ]
  },
  {
   "cell_type": "code",
   "execution_count": 44,
   "id": "4668bf0b",
   "metadata": {},
   "outputs": [
    {
     "name": "stdout",
     "output_type": "stream",
     "text": [
      "Veuillez entrer un nombre: 654\n",
      "Le nombre 654 n'est pas un palindrome\n"
     ]
    }
   ],
   "source": [
    "#Le programme doit indiquer si le nombre saisi par l'utilisateur est un palindrome\n",
    "\n",
    "number = int(input(\"Veuillez entrer un nombre: \"))\n",
    "divident_number = number\n",
    "palindrome_number = 0\n",
    "\n",
    "while divident_number != 0:\n",
    "    rest = divident_number % 10\n",
    "    palindrome_number = palindrome_number * 10 + rest\n",
    "    divident_number //= 10\n",
    "    \n",
    "if number == palindrome_number:\n",
    "    print(f\"Le nombre {number} est un palindrome\")\n",
    "else:\n",
    "    print(f\"Le nombre {number} n'est pas un palindrome\")"
   ]
  },
  {
   "cell_type": "markdown",
   "id": "b54e7572",
   "metadata": {},
   "source": [
    "# Exercice 4"
   ]
  },
  {
   "cell_type": "code",
   "execution_count": null,
   "id": "93b4152c",
   "metadata": {},
   "outputs": [],
   "source": []
  }
 ],
 "metadata": {
  "kernelspec": {
   "display_name": "Python 3 (ipykernel)",
   "language": "python",
   "name": "python3"
  },
  "language_info": {
   "codemirror_mode": {
    "name": "ipython",
    "version": 3
   },
   "file_extension": ".py",
   "mimetype": "text/x-python",
   "name": "python",
   "nbconvert_exporter": "python",
   "pygments_lexer": "ipython3",
   "version": "3.10.9"
  }
 },
 "nbformat": 4,
 "nbformat_minor": 5
}
