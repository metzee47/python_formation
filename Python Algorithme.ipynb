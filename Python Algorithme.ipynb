{
 "cells": [
  {
   "cell_type": "code",
   "execution_count": 9,
   "id": "a2b1894d",
   "metadata": {},
   "outputs": [
    {
     "name": "stdout",
     "output_type": "stream",
     "text": [
      " ==> True\n",
      " ==> False\n"
     ]
    }
   ],
   "source": [
    "# Ma fonction de recherche binaire\n",
    "def binary_search(liste, number):\n",
    "    if len(liste) != 0:\n",
    "        mid_list = (len(liste)//2) - 1\n",
    "        if liste[mid_list] == number:\n",
    "            print(' ==> True')\n",
    "        elif liste[mid_list] < number:\n",
    "            binary_search(liste[(mid_list + 1):],number)\n",
    "        else:\n",
    "            binary_search(liste[: mid_list],number)\n",
    "    else:\n",
    "        print(' ==> False')\n",
    "\n",
    "liste = [1,2,3,5,8]\n",
    "binary_search(liste, 5)\n",
    "binary_search(liste, 6)"
   ]
  },
  {
   "cell_type": "code",
   "execution_count": 11,
   "id": "7e60d808",
   "metadata": {},
   "outputs": [
    {
     "data": {
      "text/plain": [
       "81"
      ]
     },
     "execution_count": 11,
     "metadata": {},
     "output_type": "execute_result"
    }
   ],
   "source": [
    "# Un programme Python pour calculer la valeur de 'a' à la puissance 'b'.\n",
    "def power(a,b):\n",
    "    if b == 1:\n",
    "        return a\n",
    "    return a * power(a,(b-1))\n",
    "\n",
    "power(3,4)"
   ]
  },
  {
   "cell_type": "code",
   "execution_count": 9,
   "id": "36b86d46",
   "metadata": {},
   "outputs": [],
   "source": [
    "liste = [29,13,22,37,52,49,46,71,56]"
   ]
  },
  {
   "cell_type": "code",
   "execution_count": 10,
   "id": "941967e1",
   "metadata": {},
   "outputs": [
    {
     "name": "stdout",
     "output_type": "stream",
     "text": [
      "[13, 22, 29, 37, 49, 46, 52, 56, 71]\n",
      "[13, 22, 29, 37, 46, 49, 52, 56, 71]\n",
      "[13, 22, 29, 37, 46, 49, 52, 56, 71]\n",
      "[13, 22, 29, 37, 46, 49, 52, 56, 71]\n",
      "[13, 22, 29, 37, 46, 49, 52, 56, 71]\n",
      "[13, 22, 29, 37, 46, 49, 52, 56, 71]\n",
      "[13, 22, 29, 37, 46, 49, 52, 56, 71]\n",
      "[13, 22, 29, 37, 46, 49, 52, 56, 71]\n",
      "[13, 22, 29, 37, 46, 49, 52, 56, 71]\n",
      "\n",
      "\n",
      "[13, 22, 29, 37, 46, 49, 52, 56, 71]\n"
     ]
    }
   ],
   "source": [
    "# Un programme Python pour trier une liste d'éléments à l'aide de l'algorithme de tri à bulles.\n",
    "\n",
    "list_size = len(liste)\n",
    "for i in range(list_size):\n",
    "    for j in range(list_size-1):\n",
    "        if liste[j] <= liste[j+1]:\n",
    "            pass\n",
    "        else:\n",
    "            tmp = liste[j]\n",
    "            liste[j] = liste[j+1]\n",
    "            liste[j+1] = tmp\n",
    "    print(liste)\n",
    "print('\\n')\n",
    "print(liste)   "
   ]
  },
  {
   "cell_type": "code",
   "execution_count": 11,
   "id": "00f8e63e",
   "metadata": {},
   "outputs": [
    {
     "data": {
      "text/plain": [
       "[13, 22, 29, 37, 46, 49, 52, 56, 71]"
      ]
     },
     "execution_count": 11,
     "metadata": {},
     "output_type": "execute_result"
    }
   ],
   "source": [
    "# Un programme Python pour trier une liste d'éléments à l'aide de l'algorithme de tri par fusion.\n",
    "\n",
    "def fusion_sort(liste):\n",
    "    if len(liste) > 1:\n",
    "        mid_list = len(liste) // 2\n",
    "        first_part = liste[:mid_list]\n",
    "        last_part = liste[mid_list:]\n",
    "        fusion_sort(first_part)\n",
    "        fusion_sort(last_part)\n",
    "        i,j,k = 0,0,0\n",
    "        while i < len(first_part) and j < len(last_part):\n",
    "            if first_part[i] < last_part[j]:\n",
    "                liste[k] = first_part[i]\n",
    "                i += 1\n",
    "            else:\n",
    "                liste[k] = last_part[j]\n",
    "                j += 1\n",
    "            k += 1\n",
    "        while i < len(first_part):\n",
    "            liste[k] = first_part[i]\n",
    "            i += 1\n",
    "            k += 1\n",
    "        while j < len(last_part):\n",
    "            liste[k] = last_part[j]\n",
    "            j += 1\n",
    "            k += 1\n",
    "    return liste\n",
    "\n",
    "fusion_sort(liste)"
   ]
  },
  {
   "cell_type": "code",
   "execution_count": 12,
   "id": "cfe1cab2",
   "metadata": {},
   "outputs": [
    {
     "data": {
      "text/plain": [
       "[13, 22, 29, 37, 46, 49, 52, 56, 71]"
      ]
     },
     "execution_count": 12,
     "metadata": {},
     "output_type": "execute_result"
    }
   ],
   "source": [
    "# Un programme Python pour trier une liste d'éléments à l'aide de l'algorithme de tri rapide.\n",
    "\n",
    "def quick_sort(liste):\n",
    "    list_size = len(liste)\n",
    "    if list_size <= 1:\n",
    "        return liste\n",
    "    last_number = liste[-1]\n",
    "    lowers_number = []\n",
    "    uppers_number = []\n",
    "    for i in range(list_size-1):\n",
    "        if liste[i] <= last_number:\n",
    "            lowers_number.append(liste[i])\n",
    "        else:\n",
    "            uppers_number.append(liste[i])\n",
    "    return quick_sort(lowers_number) + [last_number] + quick_sort(uppers_number)\n",
    "\n",
    "quick_sort(liste)"
   ]
  },
  {
   "cell_type": "code",
   "execution_count": null,
   "id": "2f069799",
   "metadata": {},
   "outputs": [],
   "source": []
  }
 ],
 "metadata": {
  "kernelspec": {
   "display_name": "Python 3 (ipykernel)",
   "language": "python",
   "name": "python3"
  },
  "language_info": {
   "codemirror_mode": {
    "name": "ipython",
    "version": 3
   },
   "file_extension": ".py",
   "mimetype": "text/x-python",
   "name": "python",
   "nbconvert_exporter": "python",
   "pygments_lexer": "ipython3",
   "version": "3.10.9"
  }
 },
 "nbformat": 4,
 "nbformat_minor": 5
}
