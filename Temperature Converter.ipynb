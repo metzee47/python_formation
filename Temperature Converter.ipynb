{
 "cells": [
  {
   "cell_type": "code",
   "execution_count": 47,
   "id": "9605efae",
   "metadata": {},
   "outputs": [],
   "source": [
    "from tkinter import *\n",
    "\n",
    "# fonction permettant de convertir en degre celcius la temperature entre par l'utilisateur\n",
    "\n",
    "def fahrenheit_to_celsius():\n",
    "    f_temp = int(f_entry.get())\n",
    "    f_temp = round(((f_temp - 32) * 5 / 9),2)\n",
    "    c_result = Label(window, text= f_temp, fg= 'blue', bg='grey',font=('Georgia',12))\n",
    "    c_result.place(x=210, y=130)\n",
    "\n",
    "\n",
    "window = Tk()\n",
    "\n",
    "# Personnalisation de la fenetre principale\n",
    "window.title('Temperature Converter')\n",
    "window.geometry('420x200')\n",
    "window.resizable(width=False, height=False)\n",
    "window.config(bg='grey')\n",
    "\n",
    "# Creation du frame portant le label ainsi que l'entree de la temperature fahrenheit\n",
    "\n",
    "\n",
    "f_label = Label(window,text= 'Fahrenheit Temperature', bg='grey', font=('Georgia',12,'underline') )\n",
    "f_label.place(x=10,y=20)\n",
    "data = StringVar()\n",
    "f_entry = Entry(window,textvariable=data)\n",
    "f_entry.place(x=210,y=22)\n",
    "f_icon = Label(window,text= '\\N{DEGREE FAHRENHEIT}', bg='grey',font=('Georgia',12))\n",
    "f_icon.place(x=350,y=20)\n",
    "\n",
    "# Creation du bouton convertir (fahrenheit a celcius)\n",
    "\n",
    "btn_convert = Button(window, text=\"\\N{RIGHTWARDS BLACK ARROW}\",borderwidth=2, width= 5,bg= 'lightblue', activebackground='black',activeforeground='white', command=fahrenheit_to_celsius)\n",
    "btn_convert.place(x=210,y=80)\n",
    "\n",
    "# Creation du label du resultat de la conversion en celcius\n",
    "\n",
    "c_label = Label(window,text= 'Celsius Temperature',width=20, bg='grey',font=('Georgia',12,'underline'))\n",
    "c_label.place(x=10,y=130)\n",
    "c_icon = Label(window,text= '\\N{DEGREE CELSIUS}', bg='grey',font=('Georgia',12))\n",
    "c_icon.place(x=350,y=130)\n",
    "\n",
    "window.mainloop()"
   ]
  },
  {
   "cell_type": "code",
   "execution_count": null,
   "id": "48fc7d26",
   "metadata": {},
   "outputs": [],
   "source": []
  },
  {
   "cell_type": "code",
   "execution_count": null,
   "id": "59d5fee2",
   "metadata": {},
   "outputs": [],
   "source": []
  }
 ],
 "metadata": {
  "kernelspec": {
   "display_name": "Python 3 (ipykernel)",
   "language": "python",
   "name": "python3"
  },
  "language_info": {
   "codemirror_mode": {
    "name": "ipython",
    "version": 3
   },
   "file_extension": ".py",
   "mimetype": "text/x-python",
   "name": "python",
   "nbconvert_exporter": "python",
   "pygments_lexer": "ipython3",
   "version": "3.10.9"
  }
 },
 "nbformat": 4,
 "nbformat_minor": 5
}
