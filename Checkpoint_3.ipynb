{
 "cells": [
  {
   "cell_type": "markdown",
   "id": "98f5492e",
   "metadata": {},
   "source": [
    "Question 1"
   ]
  },
  {
   "cell_type": "code",
   "execution_count": 9,
   "id": "094350d8",
   "metadata": {},
   "outputs": [
    {
     "name": "stdout",
     "output_type": "stream",
     "text": [
      "Veuillez entrez une chaine de nombre separes par une espace: 2 4 5\n",
      "Le resultat donne 40\n"
     ]
    }
   ],
   "source": [
    "# Un programmme qui va retourner le produit des elements d'une liste\n",
    "from numpy import prod\n",
    "\n",
    "#Demande a l'utilisateur de nous donner sa liste de nombre\n",
    "my_liste = input(\"Veuillez entrez une chaine de nombre(separee par une espace): \").split(\" \")\n",
    "\n",
    "# on va convertir chaque element de la liste en integer\n",
    "for i in range(0,len(my_liste)):\n",
    "    my_liste[i] = int(my_liste[i])\n",
    "\n",
    "print(f\"Le produit donne {prod(my_liste)}\")\n"
   ]
  },
  {
   "cell_type": "markdown",
   "id": "d6ef1171",
   "metadata": {},
   "source": [
    "Question 2"
   ]
  },
  {
   "cell_type": "code",
   "execution_count": 15,
   "id": "64e2bf1c",
   "metadata": {},
   "outputs": [
    {
     "data": {
      "text/plain": [
       "[(2, 1), (2, 1), (2, 3), (4, 4), (2, 5)]"
      ]
     },
     "execution_count": 15,
     "metadata": {},
     "output_type": "execute_result"
    }
   ],
   "source": [
    "# un programme qui va trier une liste de tuple par le dernier element du tuple\n",
    "\n",
    "given_list = [(2,5),(2,1),(4,4),(2,3),(2,1)]\n",
    "size_list = len(given_list)\n",
    "tmp_list = [] #Une liste qui va nous permettre d'echanger les valeurs de la liste principale\n",
    "\n",
    "for i in range(0,size_list):\n",
    "    for j in range(i+1,size_list):\n",
    "        if given_list[i][-1] > given_list[j][-1]:\n",
    "            tmp_list.insert(0,given_list[i])\n",
    "            given_list[i] = given_list[j]\n",
    "            given_list[j] = tmp_list[0]\n",
    "\n",
    "        if given_list[i][-1] > given_list[j][-1]:\n",
    "            pass\n",
    "        \n",
    "        tmp_list.clear()\n",
    "        \n",
    "#Au cas ou le dernier element du tuple est egal au dernier element du tuple suivant, faire le tri en fonction du 1er element des tuples en question\n",
    "        if given_list[i][-1] == given_list[j][-1]:\n",
    "            if given_list[i][0] >= given_list[j][0]:\n",
    "                tmp_list.insert(0,given_list[i])\n",
    "                given_list[i] = given_list[j]\n",
    "                given_list[j] = tmp_list[0]\n",
    "                \n",
    "            if given_list[i][0] > given_list[j][0]:\n",
    "                tmp_list.insert(0,given_list[i])\n",
    "                given_list[i] = given_list[j]\n",
    "                given_list[j] = tmp_list[0]\n",
    "            \n",
    "            tmp_list.clear()\n",
    "        \n",
    "            \n",
    "given_list\n"
   ]
  },
  {
   "cell_type": "markdown",
   "id": "8d4ea4a3",
   "metadata": {},
   "source": [
    "Question 3"
   ]
  },
  {
   "cell_type": "code",
   "execution_count": 30,
   "id": "2224b4a1",
   "metadata": {},
   "outputs": [
    {
     "data": {
      "text/plain": [
       "{'a': 359, 'b': 596, 'c': 458, 'e': 1000, 'd': 250}"
      ]
     },
     "execution_count": 30,
     "metadata": {},
     "output_type": "execute_result"
    }
   ],
   "source": [
    "#Un programme qui renvoie la somme des valeurs des clefs de deux dictionnaires\n",
    "\n",
    "dict_1, dict_2, dict_ = {\n",
    "    'a': 100,\n",
    "    'b': 250,\n",
    "    'c': 330,\n",
    "    'e': 1000\n",
    "},{\n",
    "    'a': 259,\n",
    "    'b': 346,\n",
    "    'c': 128,\n",
    "    'd':250\n",
    "}, {\n",
    "    \n",
    "} #declaration des dictionnaires\n",
    "\n",
    "for key,value in dict_2.items():\n",
    "    for clef,valeur in dict_1.items():\n",
    "        if key == clef:\n",
    "            dict_[key] = dict_1[key] + dict_2[key] \n",
    "        else:\n",
    "            if key not in dict_.keys():\n",
    "                dict_[key] = value\n",
    "            if clef not in dict_.keys():\n",
    "                dict_[clef] = valeur            \n",
    "dict_\n",
    "\n"
   ]
  },
  {
   "cell_type": "markdown",
   "id": "79c28600",
   "metadata": {},
   "source": [
    "Question 4"
   ]
  },
  {
   "cell_type": "code",
   "execution_count": 36,
   "id": "2fb2c987",
   "metadata": {},
   "outputs": [
    {
     "name": "stdout",
     "output_type": "stream",
     "text": [
      "Veuillez choisir un nombre : 8\n"
     ]
    },
    {
     "data": {
      "text/plain": [
       "{1: 1, 2: 4, 3: 9, 4: 16, 5: 25, 6: 36, 7: 49, 8: 64}"
      ]
     },
     "execution_count": 36,
     "metadata": {},
     "output_type": "execute_result"
    }
   ],
   "source": [
    "# L'utilisateur va entrer un nombre puis le programme qui va renvoyer \n",
    "\n",
    "number = int(input(\"Veuillez choisir un nombre : \"))\n",
    "dict_ = {}\n",
    "\n",
    "for i in range(1,(number+1)):\n",
    "    dict_[i] = i**2\n",
    "dict_"
   ]
  },
  {
   "cell_type": "markdown",
   "id": "eb6d8c57",
   "metadata": {},
   "source": [
    "Question 5"
   ]
  },
  {
   "cell_type": "code",
   "execution_count": 43,
   "id": "5522083f",
   "metadata": {},
   "outputs": [
    {
     "name": "stdout",
     "output_type": "stream",
     "text": [
      "Liste de depart: \n",
      " [('item1', '12.20'), ('item2', '15.10'), ('item3', '24.5')]\n",
      "\n",
      "\n",
      "Liste triee par ordre decroissant par rapport aux floats\n",
      " [('item3', '24.5'), ('item2', '15.10'), ('item1', '12.20')]\n"
     ]
    }
   ],
   "source": [
    "#Un programme qui trie une liste en fonction des valeurs(float) des tuples de la liste\n",
    "\n",
    "given_list = [('item1','12.20'), ('item2','15.10'), ('item3','24.5')]\n",
    "reverse_sort_list = sorted(given_list, key= lambda x:float(x[1]), reverse=True)\n",
    "\n",
    "print(\"Liste de depart: \\n\", given_list)\n",
    "print(\"\\n\")\n",
    "print(\"Liste triee par ordre decroissant par rapport aux floats\\n\", reverse_sort_list)\n",
    "\n"
   ]
  },
  {
   "cell_type": "markdown",
   "id": "fd8541eb",
   "metadata": {},
   "source": [
    "Question 6"
   ]
  },
  {
   "cell_type": "code",
   "execution_count": 37,
   "id": "d4bcb780",
   "metadata": {},
   "outputs": [
    {
     "name": "stdout",
     "output_type": "stream",
     "text": [
      "32 \n",
      "\n",
      "1 \n",
      "\n",
      "0 \n",
      "\n",
      "55 \n",
      "\n",
      "23 \n",
      "\n",
      "Saisir la valeur a ajouter: 15\n",
      "{32, 1, 0, 55, '15', 23}\n",
      "Saisir la valeur a supprimer: 15\n",
      "{32, 1, 0, 55, 23}\n"
     ]
    }
   ],
   "source": [
    "# Un programme qui itere chaque valeur du set, rajoute une valeur puis supprime une valeur\n",
    "\n",
    "set_ = {1,23,32,55,0}\n",
    "\n",
    "# iteration \n",
    "for value in set_:\n",
    "    print(value,\"\\n\")\n",
    "    \n",
    "# ajouter une valeur\n",
    "value = input(\"Saisir la valeur a ajouter: \")\n",
    "set_.add(value)\n",
    "print(set_)\n",
    "\n",
    "# supprimer une valeur \n",
    "value = input(\"Saisir la valeur a supprimer: \")\n",
    "if value in set_:\n",
    "    set_.remove(value)\n",
    "else:\n",
    "    print(\"Valeur inexistante dans le set\")\n",
    "print(set_)"
   ]
  },
  {
   "cell_type": "code",
   "execution_count": null,
   "id": "7dba370c",
   "metadata": {},
   "outputs": [],
   "source": []
  }
 ],
 "metadata": {
  "kernelspec": {
   "display_name": "Python 3 (ipykernel)",
   "language": "python",
   "name": "python3"
  },
  "language_info": {
   "codemirror_mode": {
    "name": "ipython",
    "version": 3
   },
   "file_extension": ".py",
   "mimetype": "text/x-python",
   "name": "python",
   "nbconvert_exporter": "python",
   "pygments_lexer": "ipython3",
   "version": "3.10.9"
  }
 },
 "nbformat": 4,
 "nbformat_minor": 5
}
