{
 "cells": [
  {
   "cell_type": "code",
   "execution_count": 15,
   "id": "bc72961c",
   "metadata": {},
   "outputs": [
    {
     "name": "stdout",
     "output_type": "stream",
     "text": [
      "L'ordinateur a choisi un nombre aleatoire entre 1 et 100, sauriez-vous le devinez ?\n",
      "\n",
      "\tDevinez le nombre : 25\n",
      "\tTrop petit !!!\n",
      "\n",
      "\tEssayez un autre : 38\n",
      "\tTrop petit !!!\n",
      "\n",
      "\tEssayez un autre : 50\n",
      "\tTrop petit !!!\n",
      "\n",
      "\tEssayez un autre : 70\n",
      "\tTrop petit !!!\n",
      "\n",
      "\tEssayez un autre : 90\n",
      "\tTrop grand !!!\n",
      "\n",
      "\tEssayez un autre : 80\n",
      "\tTrop grand !!!\n",
      "\n",
      "\tEssayez un autre : 75\n",
      "\tTrop grand !!!\n",
      "\n",
      "\tEssayez un autre : 73\n",
      "Felicitations, vous avez devine le nombre !!!\n"
     ]
    }
   ],
   "source": [
    "# un programme va choisir un nombre aleatoire entre 1 et 100, l'utilsateur va essayer de deviner le nombre\n",
    "\n",
    "from random import randint\n",
    "\n",
    "random_value = randint(1,100)\n",
    "\n",
    "print(\"L'ordinateur a choisi un nombre aleatoire entre 1 et 100, sauriez-vous le devinez ?\\n\")\n",
    "\n",
    "guest_number = int(input(\"\\tDevinez le nombre : \"))\n",
    "\n",
    "while guest_number != random_value:\n",
    "    if guest_number > random_value:\n",
    "        print(\"\\tTrop grand !!!\\n\")\n",
    "        guest_number = int(input('\\tEssayez un autre : '))\n",
    "    else:\n",
    "        print(\"\\tTrop petit !!!\\n\")\n",
    "        guest_number = int(input('\\tEssayez un autre : '))\n",
    "        \n",
    "print(\"Felicitations, vous avez devine le nombre !!!\")\n",
    "\n",
    "    \n"
   ]
  },
  {
   "cell_type": "markdown",
   "id": "221e5a1a",
   "metadata": {},
   "source": [
    "### "
   ]
  }
 ],
 "metadata": {
  "kernelspec": {
   "display_name": "Python 3 (ipykernel)",
   "language": "python",
   "name": "python3"
  },
  "language_info": {
   "codemirror_mode": {
    "name": "ipython",
    "version": 3
   },
   "file_extension": ".py",
   "mimetype": "text/x-python",
   "name": "python",
   "nbconvert_exporter": "python",
   "pygments_lexer": "ipython3",
   "version": "3.10.9"
  }
 },
 "nbformat": 4,
 "nbformat_minor": 5
}
