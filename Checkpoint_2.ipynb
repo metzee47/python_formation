{
 "cells": [
  {
   "cell_type": "code",
   "execution_count": 19,
   "id": "48f26d78",
   "metadata": {},
   "outputs": [
    {
     "name": "stdout",
     "output_type": "stream",
     "text": [
      "L'ordinateur a choisi un nombre aleatoire entre 1 et 100, sauriez-vous le devinez(En cinq essais) ?\n",
      "\n",
      "\tDevinez le nombre : 12\n",
      "\tTrop petit !!!\n",
      "Encore 4 essai(s)\n",
      "\tEssayez un autre : 12\n",
      "\tTrop petit !!!\n",
      "Encore 3 essai(s)\n",
      "\tEssayez un autre : 12\n",
      "\tTrop petit !!!\n",
      "Encore 2 essai(s)\n",
      "\tEssayez un autre : 12\n",
      "\tTrop petit !!!\n",
      "Encore 1 essai(s)\n",
      "\tEssayez un autre : 12\n",
      "Malheureusement, vous n'avez pas su deviner le nombre en cinq tentatives.\n"
     ]
    }
   ],
   "source": [
    "# un programme va choisir un nombre aleatoire entre 1 et 100, l'utilsateur va essayer de deviner le nombre\n",
    "\n",
    "from random import randint\n",
    "\n",
    "random_value = randint(1,100)\n",
    "\n",
    "print(\"L'ordinateur a choisi un nombre aleatoire entre 1 et 100, sauriez-vous le devinez(En cinq essais) ?\\n\")\n",
    "\n",
    "try_amount = 5\n",
    "guest_number = int(input(\"\\tDevinez le nombre : \"))\n",
    "\n",
    "while guest_number != random_value:\n",
    "    if guest_number > random_value:\n",
    "        try_amount -=1\n",
    "        print(\"\\tTrop grand !!!\\nEncore\", try_amount, \"essai(s)\")\n",
    "        guest_number = int(input('\\tEssayez un autre : '))\n",
    "    else:\n",
    "        try_amount -=1\n",
    "        print(\"\\tTrop petit !!!\\nEncore\", try_amount, \"essai(s)\")\n",
    "        guest_number = int(input('\\tEssayez un autre : '))\n",
    "    if(try_amount==1):\n",
    "        print(\"Malheureusement, vous n'avez pas su deviner le nombre apres cinq tentatives.\")\n",
    "        break\n",
    "if guest_number == random_value:    \n",
    "    print(\"Felicitations, vous avez devine le nombre !!!\")"
   ]
  },
  {
   "cell_type": "markdown",
   "id": "4f76b2d8",
   "metadata": {},
   "source": [
    "### "
   ]
  }
 ],
 "metadata": {
  "kernelspec": {
   "display_name": "Python 3 (ipykernel)",
   "language": "python",
   "name": "python3"
  },
  "language_info": {
   "codemirror_mode": {
    "name": "ipython",
    "version": 3
   },
   "file_extension": ".py",
   "mimetype": "text/x-python",
   "name": "python",
   "nbconvert_exporter": "python",
   "pygments_lexer": "ipython3",
   "version": "3.10.9"
  }
 },
 "nbformat": 4,
 "nbformat_minor": 5
}
